{
 "cells": [
  {
   "cell_type": "markdown",
   "id": "1d3f53bc-9843-4354-9823-d5c3c77ea4bc",
   "metadata": {},
   "source": [
    "# Credit Card Users Analysis"
   ]
  },
  {
   "cell_type": "markdown",
   "id": "d63c3999-b5f3-453e-a3df-6fe53dfefd94",
   "metadata": {},
   "source": [
    "### What is the purpose of the analysis?\n",
    "To explore the `sd254_users.csv` dataset, understand user behavior and profiles, and perform descriptive analysis.\n",
    "\n",
    "### Why is it relevant?\n",
    "Studying user data helps uncover patterns that may relate to financial habits.\n",
    "\n",
    "### Where did we get the data from?\n",
    "The dataset is part of the Kaggle project: [Credit Card Transactions Dataset](https://www.kaggle.com/datasets/ealtman2019/credit-card-transactions)\n",
    "\n",
    "### Who is the target audience?\n",
    "Data analysts, data science learners, financial researchers, and professionals interested in user profiling and fraud prevention strategies.\n"
   ]
  },
  {
   "cell_type": "markdown",
   "id": "2a2bb61d-1b3d-43c0-b354-0d036b587792",
   "metadata": {},
   "source": [
    "# Importing the Data"
   ]
  },
  {
   "cell_type": "code",
   "execution_count": 1,
   "id": "f1f5af24-6efb-477a-8751-9be7f1748833",
   "metadata": {},
   "outputs": [],
   "source": [
    "import pandas as pd\n",
    "users = pd.read_csv('../data/raw/sd254_users.csv')"
   ]
  },
  {
   "cell_type": "code",
   "execution_count": 2,
   "id": "856a7957-9ad6-4f42-8d09-fe97cade52e3",
   "metadata": {},
   "outputs": [
    {
     "data": {
      "text/plain": [
       "(2000, 18)"
      ]
     },
     "execution_count": 2,
     "metadata": {},
     "output_type": "execute_result"
    }
   ],
   "source": [
    "users.shape"
   ]
  },
  {
   "cell_type": "code",
   "execution_count": 3,
   "id": "98b8576f-9004-42da-871f-240e670fb233",
   "metadata": {},
   "outputs": [
    {
     "data": {
      "text/html": [
       "<div>\n",
       "<style scoped>\n",
       "    .dataframe tbody tr th:only-of-type {\n",
       "        vertical-align: middle;\n",
       "    }\n",
       "\n",
       "    .dataframe tbody tr th {\n",
       "        vertical-align: top;\n",
       "    }\n",
       "\n",
       "    .dataframe thead th {\n",
       "        text-align: right;\n",
       "    }\n",
       "</style>\n",
       "<table border=\"1\" class=\"dataframe\">\n",
       "  <thead>\n",
       "    <tr style=\"text-align: right;\">\n",
       "      <th></th>\n",
       "      <th>Person</th>\n",
       "      <th>Current Age</th>\n",
       "      <th>Retirement Age</th>\n",
       "      <th>Birth Year</th>\n",
       "      <th>Birth Month</th>\n",
       "      <th>Gender</th>\n",
       "      <th>Address</th>\n",
       "      <th>Apartment</th>\n",
       "      <th>City</th>\n",
       "      <th>State</th>\n",
       "      <th>Zipcode</th>\n",
       "      <th>Latitude</th>\n",
       "      <th>Longitude</th>\n",
       "      <th>Per Capita Income - Zipcode</th>\n",
       "      <th>Yearly Income - Person</th>\n",
       "      <th>Total Debt</th>\n",
       "      <th>FICO Score</th>\n",
       "      <th>Num Credit Cards</th>\n",
       "    </tr>\n",
       "  </thead>\n",
       "  <tbody>\n",
       "    <tr>\n",
       "      <th>0</th>\n",
       "      <td>Hazel Robinson</td>\n",
       "      <td>53</td>\n",
       "      <td>66</td>\n",
       "      <td>1966</td>\n",
       "      <td>11</td>\n",
       "      <td>Female</td>\n",
       "      <td>462 Rose Lane</td>\n",
       "      <td>NaN</td>\n",
       "      <td>La Verne</td>\n",
       "      <td>CA</td>\n",
       "      <td>91750</td>\n",
       "      <td>34.15</td>\n",
       "      <td>-117.76</td>\n",
       "      <td>$29278</td>\n",
       "      <td>$59696</td>\n",
       "      <td>$127613</td>\n",
       "      <td>787</td>\n",
       "      <td>5</td>\n",
       "    </tr>\n",
       "    <tr>\n",
       "      <th>1</th>\n",
       "      <td>Sasha Sadr</td>\n",
       "      <td>53</td>\n",
       "      <td>68</td>\n",
       "      <td>1966</td>\n",
       "      <td>12</td>\n",
       "      <td>Female</td>\n",
       "      <td>3606 Federal Boulevard</td>\n",
       "      <td>NaN</td>\n",
       "      <td>Little Neck</td>\n",
       "      <td>NY</td>\n",
       "      <td>11363</td>\n",
       "      <td>40.76</td>\n",
       "      <td>-73.74</td>\n",
       "      <td>$37891</td>\n",
       "      <td>$77254</td>\n",
       "      <td>$191349</td>\n",
       "      <td>701</td>\n",
       "      <td>5</td>\n",
       "    </tr>\n",
       "    <tr>\n",
       "      <th>2</th>\n",
       "      <td>Saanvi Lee</td>\n",
       "      <td>81</td>\n",
       "      <td>67</td>\n",
       "      <td>1938</td>\n",
       "      <td>11</td>\n",
       "      <td>Female</td>\n",
       "      <td>766 Third Drive</td>\n",
       "      <td>NaN</td>\n",
       "      <td>West Covina</td>\n",
       "      <td>CA</td>\n",
       "      <td>91792</td>\n",
       "      <td>34.02</td>\n",
       "      <td>-117.89</td>\n",
       "      <td>$22681</td>\n",
       "      <td>$33483</td>\n",
       "      <td>$196</td>\n",
       "      <td>698</td>\n",
       "      <td>5</td>\n",
       "    </tr>\n",
       "    <tr>\n",
       "      <th>3</th>\n",
       "      <td>Everlee Clark</td>\n",
       "      <td>63</td>\n",
       "      <td>63</td>\n",
       "      <td>1957</td>\n",
       "      <td>1</td>\n",
       "      <td>Female</td>\n",
       "      <td>3 Madison Street</td>\n",
       "      <td>NaN</td>\n",
       "      <td>New York</td>\n",
       "      <td>NY</td>\n",
       "      <td>10069</td>\n",
       "      <td>40.71</td>\n",
       "      <td>-73.99</td>\n",
       "      <td>$163145</td>\n",
       "      <td>$249925</td>\n",
       "      <td>$202328</td>\n",
       "      <td>722</td>\n",
       "      <td>4</td>\n",
       "    </tr>\n",
       "    <tr>\n",
       "      <th>4</th>\n",
       "      <td>Kyle Peterson</td>\n",
       "      <td>43</td>\n",
       "      <td>70</td>\n",
       "      <td>1976</td>\n",
       "      <td>9</td>\n",
       "      <td>Male</td>\n",
       "      <td>9620 Valley Stream Drive</td>\n",
       "      <td>NaN</td>\n",
       "      <td>San Francisco</td>\n",
       "      <td>CA</td>\n",
       "      <td>94117</td>\n",
       "      <td>37.76</td>\n",
       "      <td>-122.44</td>\n",
       "      <td>$53797</td>\n",
       "      <td>$109687</td>\n",
       "      <td>$183855</td>\n",
       "      <td>675</td>\n",
       "      <td>1</td>\n",
       "    </tr>\n",
       "  </tbody>\n",
       "</table>\n",
       "</div>"
      ],
      "text/plain": [
       "           Person  Current Age  Retirement Age  Birth Year  Birth Month  \\\n",
       "0  Hazel Robinson           53              66        1966           11   \n",
       "1      Sasha Sadr           53              68        1966           12   \n",
       "2      Saanvi Lee           81              67        1938           11   \n",
       "3   Everlee Clark           63              63        1957            1   \n",
       "4   Kyle Peterson           43              70        1976            9   \n",
       "\n",
       "   Gender                   Address  Apartment           City State  Zipcode  \\\n",
       "0  Female             462 Rose Lane        NaN       La Verne    CA    91750   \n",
       "1  Female    3606 Federal Boulevard        NaN    Little Neck    NY    11363   \n",
       "2  Female           766 Third Drive        NaN    West Covina    CA    91792   \n",
       "3  Female          3 Madison Street        NaN       New York    NY    10069   \n",
       "4    Male  9620 Valley Stream Drive        NaN  San Francisco    CA    94117   \n",
       "\n",
       "   Latitude  Longitude Per Capita Income - Zipcode Yearly Income - Person  \\\n",
       "0     34.15    -117.76                      $29278                 $59696   \n",
       "1     40.76     -73.74                      $37891                 $77254   \n",
       "2     34.02    -117.89                      $22681                 $33483   \n",
       "3     40.71     -73.99                     $163145                $249925   \n",
       "4     37.76    -122.44                      $53797                $109687   \n",
       "\n",
       "  Total Debt  FICO Score  Num Credit Cards  \n",
       "0    $127613         787                 5  \n",
       "1    $191349         701                 5  \n",
       "2       $196         698                 5  \n",
       "3    $202328         722                 4  \n",
       "4    $183855         675                 1  "
      ]
     },
     "execution_count": 3,
     "metadata": {},
     "output_type": "execute_result"
    }
   ],
   "source": [
    "users.head()"
   ]
  },
  {
   "cell_type": "markdown",
   "id": "9f97756b-b314-40f9-a1c9-a1fb58958c71",
   "metadata": {},
   "source": [
    "# Counting the duplicated rows"
   ]
  },
  {
   "cell_type": "code",
   "execution_count": 4,
   "id": "33f668d4-090d-48e9-8f03-e6ddf7c5ab44",
   "metadata": {},
   "outputs": [
    {
     "name": "stdout",
     "output_type": "stream",
     "text": [
      "0\n"
     ]
    }
   ],
   "source": [
    "# Counts the duplicated rows\n",
    "print(users.duplicated().sum())"
   ]
  },
  {
   "cell_type": "markdown",
   "id": "54aac95d-3444-4655-a2e2-28de68a690e3",
   "metadata": {},
   "source": [
    "# Counting the number of missing values"
   ]
  },
  {
   "cell_type": "code",
   "execution_count": 5,
   "id": "a003e250-7b14-4a41-ba9c-3c03b8245836",
   "metadata": {},
   "outputs": [
    {
     "name": "stdout",
     "output_type": "stream",
     "text": [
      "Person                            0\n",
      "Current Age                       0\n",
      "Retirement Age                    0\n",
      "Birth Year                        0\n",
      "Birth Month                       0\n",
      "Gender                            0\n",
      "Address                           0\n",
      "Apartment                      1472\n",
      "City                              0\n",
      "State                             0\n",
      "Zipcode                           0\n",
      "Latitude                          0\n",
      "Longitude                         0\n",
      "Per Capita Income - Zipcode       0\n",
      "Yearly Income - Person            0\n",
      "Total Debt                        0\n",
      "FICO Score                        0\n",
      "Num Credit Cards                  0\n",
      "dtype: int64\n"
     ]
    }
   ],
   "source": [
    "# Counts the number of missing values\n",
    "print(users.isnull().sum())"
   ]
  },
  {
   "cell_type": "markdown",
   "id": "327b667e-f3e7-4e19-a2db-3b09ced919ab",
   "metadata": {},
   "source": [
    "# Dropping the column full of missing values\n",
    "We are dropping the `Apartment` column because it contains mostly null values"
   ]
  },
  {
   "cell_type": "code",
   "execution_count": 6,
   "id": "d1fb6cc4-e047-4ff8-8a16-3deb67a81472",
   "metadata": {},
   "outputs": [
    {
     "data": {
      "text/plain": [
       "Person                         0\n",
       "Current Age                    0\n",
       "Retirement Age                 0\n",
       "Birth Year                     0\n",
       "Birth Month                    0\n",
       "Gender                         0\n",
       "Address                        0\n",
       "City                           0\n",
       "State                          0\n",
       "Zipcode                        0\n",
       "Latitude                       0\n",
       "Longitude                      0\n",
       "Per Capita Income - Zipcode    0\n",
       "Yearly Income - Person         0\n",
       "Total Debt                     0\n",
       "FICO Score                     0\n",
       "Num Credit Cards               0\n",
       "dtype: int64"
      ]
     },
     "execution_count": 6,
     "metadata": {},
     "output_type": "execute_result"
    }
   ],
   "source": [
    "users = users.drop('Apartment', axis=1)\n",
    "users.isnull().sum()"
   ]
  },
  {
   "cell_type": "code",
   "execution_count": 7,
   "id": "c3e961d7-5c90-492a-9a2f-d542f69b9c76",
   "metadata": {},
   "outputs": [
    {
     "data": {
      "text/html": [
       "<div>\n",
       "<style scoped>\n",
       "    .dataframe tbody tr th:only-of-type {\n",
       "        vertical-align: middle;\n",
       "    }\n",
       "\n",
       "    .dataframe tbody tr th {\n",
       "        vertical-align: top;\n",
       "    }\n",
       "\n",
       "    .dataframe thead th {\n",
       "        text-align: right;\n",
       "    }\n",
       "</style>\n",
       "<table border=\"1\" class=\"dataframe\">\n",
       "  <thead>\n",
       "    <tr style=\"text-align: right;\">\n",
       "      <th></th>\n",
       "      <th>Person</th>\n",
       "      <th>Current Age</th>\n",
       "      <th>Retirement Age</th>\n",
       "      <th>Birth Year</th>\n",
       "      <th>Birth Month</th>\n",
       "      <th>Gender</th>\n",
       "      <th>Address</th>\n",
       "      <th>City</th>\n",
       "      <th>State</th>\n",
       "      <th>Zipcode</th>\n",
       "      <th>Latitude</th>\n",
       "      <th>Longitude</th>\n",
       "      <th>Per Capita Income - Zipcode</th>\n",
       "      <th>Yearly Income - Person</th>\n",
       "      <th>Total Debt</th>\n",
       "      <th>FICO Score</th>\n",
       "      <th>Num Credit Cards</th>\n",
       "    </tr>\n",
       "  </thead>\n",
       "  <tbody>\n",
       "    <tr>\n",
       "      <th>0</th>\n",
       "      <td>Hazel Robinson</td>\n",
       "      <td>53</td>\n",
       "      <td>66</td>\n",
       "      <td>1966</td>\n",
       "      <td>11</td>\n",
       "      <td>Female</td>\n",
       "      <td>462 Rose Lane</td>\n",
       "      <td>La Verne</td>\n",
       "      <td>CA</td>\n",
       "      <td>91750</td>\n",
       "      <td>34.15</td>\n",
       "      <td>-117.76</td>\n",
       "      <td>$29278</td>\n",
       "      <td>$59696</td>\n",
       "      <td>$127613</td>\n",
       "      <td>787</td>\n",
       "      <td>5</td>\n",
       "    </tr>\n",
       "    <tr>\n",
       "      <th>1</th>\n",
       "      <td>Sasha Sadr</td>\n",
       "      <td>53</td>\n",
       "      <td>68</td>\n",
       "      <td>1966</td>\n",
       "      <td>12</td>\n",
       "      <td>Female</td>\n",
       "      <td>3606 Federal Boulevard</td>\n",
       "      <td>Little Neck</td>\n",
       "      <td>NY</td>\n",
       "      <td>11363</td>\n",
       "      <td>40.76</td>\n",
       "      <td>-73.74</td>\n",
       "      <td>$37891</td>\n",
       "      <td>$77254</td>\n",
       "      <td>$191349</td>\n",
       "      <td>701</td>\n",
       "      <td>5</td>\n",
       "    </tr>\n",
       "    <tr>\n",
       "      <th>2</th>\n",
       "      <td>Saanvi Lee</td>\n",
       "      <td>81</td>\n",
       "      <td>67</td>\n",
       "      <td>1938</td>\n",
       "      <td>11</td>\n",
       "      <td>Female</td>\n",
       "      <td>766 Third Drive</td>\n",
       "      <td>West Covina</td>\n",
       "      <td>CA</td>\n",
       "      <td>91792</td>\n",
       "      <td>34.02</td>\n",
       "      <td>-117.89</td>\n",
       "      <td>$22681</td>\n",
       "      <td>$33483</td>\n",
       "      <td>$196</td>\n",
       "      <td>698</td>\n",
       "      <td>5</td>\n",
       "    </tr>\n",
       "    <tr>\n",
       "      <th>3</th>\n",
       "      <td>Everlee Clark</td>\n",
       "      <td>63</td>\n",
       "      <td>63</td>\n",
       "      <td>1957</td>\n",
       "      <td>1</td>\n",
       "      <td>Female</td>\n",
       "      <td>3 Madison Street</td>\n",
       "      <td>New York</td>\n",
       "      <td>NY</td>\n",
       "      <td>10069</td>\n",
       "      <td>40.71</td>\n",
       "      <td>-73.99</td>\n",
       "      <td>$163145</td>\n",
       "      <td>$249925</td>\n",
       "      <td>$202328</td>\n",
       "      <td>722</td>\n",
       "      <td>4</td>\n",
       "    </tr>\n",
       "    <tr>\n",
       "      <th>4</th>\n",
       "      <td>Kyle Peterson</td>\n",
       "      <td>43</td>\n",
       "      <td>70</td>\n",
       "      <td>1976</td>\n",
       "      <td>9</td>\n",
       "      <td>Male</td>\n",
       "      <td>9620 Valley Stream Drive</td>\n",
       "      <td>San Francisco</td>\n",
       "      <td>CA</td>\n",
       "      <td>94117</td>\n",
       "      <td>37.76</td>\n",
       "      <td>-122.44</td>\n",
       "      <td>$53797</td>\n",
       "      <td>$109687</td>\n",
       "      <td>$183855</td>\n",
       "      <td>675</td>\n",
       "      <td>1</td>\n",
       "    </tr>\n",
       "  </tbody>\n",
       "</table>\n",
       "</div>"
      ],
      "text/plain": [
       "           Person  Current Age  Retirement Age  Birth Year  Birth Month  \\\n",
       "0  Hazel Robinson           53              66        1966           11   \n",
       "1      Sasha Sadr           53              68        1966           12   \n",
       "2      Saanvi Lee           81              67        1938           11   \n",
       "3   Everlee Clark           63              63        1957            1   \n",
       "4   Kyle Peterson           43              70        1976            9   \n",
       "\n",
       "   Gender                   Address           City State  Zipcode  Latitude  \\\n",
       "0  Female             462 Rose Lane       La Verne    CA    91750     34.15   \n",
       "1  Female    3606 Federal Boulevard    Little Neck    NY    11363     40.76   \n",
       "2  Female           766 Third Drive    West Covina    CA    91792     34.02   \n",
       "3  Female          3 Madison Street       New York    NY    10069     40.71   \n",
       "4    Male  9620 Valley Stream Drive  San Francisco    CA    94117     37.76   \n",
       "\n",
       "   Longitude Per Capita Income - Zipcode Yearly Income - Person Total Debt  \\\n",
       "0    -117.76                      $29278                 $59696    $127613   \n",
       "1     -73.74                      $37891                 $77254    $191349   \n",
       "2    -117.89                      $22681                 $33483       $196   \n",
       "3     -73.99                     $163145                $249925    $202328   \n",
       "4    -122.44                      $53797                $109687    $183855   \n",
       "\n",
       "   FICO Score  Num Credit Cards  \n",
       "0         787                 5  \n",
       "1         701                 5  \n",
       "2         698                 5  \n",
       "3         722                 4  \n",
       "4         675                 1  "
      ]
     },
     "execution_count": 7,
     "metadata": {},
     "output_type": "execute_result"
    }
   ],
   "source": [
    "users.head()"
   ]
  },
  {
   "cell_type": "markdown",
   "id": "6c5364cb-9130-4012-9a44-755ac2ec59b8",
   "metadata": {},
   "source": [
    "# Inspecting columns type"
   ]
  },
  {
   "cell_type": "code",
   "execution_count": 8,
   "id": "00c3de0b-efd9-4ca4-8b78-28df798acd70",
   "metadata": {},
   "outputs": [
    {
     "data": {
      "text/plain": [
       "Person                          object\n",
       "Current Age                      int64\n",
       "Retirement Age                   int64\n",
       "Birth Year                       int64\n",
       "Birth Month                      int64\n",
       "Gender                          object\n",
       "Address                         object\n",
       "City                            object\n",
       "State                           object\n",
       "Zipcode                          int64\n",
       "Latitude                       float64\n",
       "Longitude                      float64\n",
       "Per Capita Income - Zipcode     object\n",
       "Yearly Income - Person          object\n",
       "Total Debt                      object\n",
       "FICO Score                       int64\n",
       "Num Credit Cards                 int64\n",
       "dtype: object"
      ]
     },
     "execution_count": 8,
     "metadata": {},
     "output_type": "execute_result"
    }
   ],
   "source": [
    "users.dtypes"
   ]
  },
  {
   "cell_type": "markdown",
   "id": "ed102ec4-4e28-427d-aa98-b58feddbbf6b",
   "metadata": {},
   "source": [
    "### Observation\n",
    "The columns  \n",
    "`Per Capita Income - Zipcode`  \n",
    "`Yearly Income - Person`        \n",
    "`Total Debt`  \n",
    "Contains numeric values stored as object type\n",
    "\n",
    "`Zipcode` is a categorical variable stored as int\n",
    "\n",
    "# Converting columns to float\n",
    "We will convert these columns to thier appropriate types"
   ]
  },
  {
   "cell_type": "code",
   "execution_count": 9,
   "id": "213ca9f2-8e7b-4b2f-b181-139b9fa9dfa6",
   "metadata": {},
   "outputs": [
    {
     "data": {
      "text/plain": [
       "Person                           object\n",
       "Current Age                       int64\n",
       "Retirement Age                    int64\n",
       "Birth Year                        int64\n",
       "Birth Month                       int64\n",
       "Gender                           object\n",
       "Address                          object\n",
       "City                             object\n",
       "State                            object\n",
       "Zipcode                          object\n",
       "Latitude                        float64\n",
       "Longitude                       float64\n",
       "avg_income_usd_by_zipcode       float64\n",
       "annual_income_usd_per_person    float64\n",
       "total_debt_usd                  float64\n",
       "FICO Score                        int64\n",
       "Num Credit Cards                  int64\n",
       "dtype: object"
      ]
     },
     "execution_count": 9,
     "metadata": {},
     "output_type": "execute_result"
    }
   ],
   "source": [
    "# targeted columns \n",
    "cols = ['Per Capita Income - Zipcode', 'Yearly Income - Person', 'Total Debt']\n",
    "\n",
    "# for each columns tagreted\n",
    "for col in cols :\n",
    "    # we remove the $ sign and convert it the values to float\n",
    "    users[col] = users[col].str.replace('$', '').astype(float)\n",
    "\n",
    "users = users.rename(columns={\n",
    "    'Per Capita Income - Zipcode': 'avg_income_usd_by_zipcode',\n",
    "    'Yearly Income - Person': 'annual_income_usd_per_person',\n",
    "    'Total Debt': 'total_debt_usd'\n",
    "})\n",
    "\n",
    "users['Zipcode'] = users['Zipcode'].astype(str)\n",
    "users.dtypes"
   ]
  },
  {
   "cell_type": "code",
   "execution_count": 10,
   "id": "ebc3aad7-8f70-48e0-a3d5-60fd125802ce",
   "metadata": {},
   "outputs": [
    {
     "data": {
      "text/html": [
       "<div>\n",
       "<style scoped>\n",
       "    .dataframe tbody tr th:only-of-type {\n",
       "        vertical-align: middle;\n",
       "    }\n",
       "\n",
       "    .dataframe tbody tr th {\n",
       "        vertical-align: top;\n",
       "    }\n",
       "\n",
       "    .dataframe thead th {\n",
       "        text-align: right;\n",
       "    }\n",
       "</style>\n",
       "<table border=\"1\" class=\"dataframe\">\n",
       "  <thead>\n",
       "    <tr style=\"text-align: right;\">\n",
       "      <th></th>\n",
       "      <th>Person</th>\n",
       "      <th>Current Age</th>\n",
       "      <th>Retirement Age</th>\n",
       "      <th>Birth Year</th>\n",
       "      <th>Birth Month</th>\n",
       "      <th>Gender</th>\n",
       "      <th>Address</th>\n",
       "      <th>City</th>\n",
       "      <th>State</th>\n",
       "      <th>Zipcode</th>\n",
       "      <th>Latitude</th>\n",
       "      <th>Longitude</th>\n",
       "      <th>avg_income_usd_by_zipcode</th>\n",
       "      <th>annual_income_usd_per_person</th>\n",
       "      <th>total_debt_usd</th>\n",
       "      <th>FICO Score</th>\n",
       "      <th>Num Credit Cards</th>\n",
       "    </tr>\n",
       "  </thead>\n",
       "  <tbody>\n",
       "    <tr>\n",
       "      <th>0</th>\n",
       "      <td>Hazel Robinson</td>\n",
       "      <td>53</td>\n",
       "      <td>66</td>\n",
       "      <td>1966</td>\n",
       "      <td>11</td>\n",
       "      <td>Female</td>\n",
       "      <td>462 Rose Lane</td>\n",
       "      <td>La Verne</td>\n",
       "      <td>CA</td>\n",
       "      <td>91750</td>\n",
       "      <td>34.15</td>\n",
       "      <td>-117.76</td>\n",
       "      <td>29278.0</td>\n",
       "      <td>59696.0</td>\n",
       "      <td>127613.0</td>\n",
       "      <td>787</td>\n",
       "      <td>5</td>\n",
       "    </tr>\n",
       "    <tr>\n",
       "      <th>1</th>\n",
       "      <td>Sasha Sadr</td>\n",
       "      <td>53</td>\n",
       "      <td>68</td>\n",
       "      <td>1966</td>\n",
       "      <td>12</td>\n",
       "      <td>Female</td>\n",
       "      <td>3606 Federal Boulevard</td>\n",
       "      <td>Little Neck</td>\n",
       "      <td>NY</td>\n",
       "      <td>11363</td>\n",
       "      <td>40.76</td>\n",
       "      <td>-73.74</td>\n",
       "      <td>37891.0</td>\n",
       "      <td>77254.0</td>\n",
       "      <td>191349.0</td>\n",
       "      <td>701</td>\n",
       "      <td>5</td>\n",
       "    </tr>\n",
       "    <tr>\n",
       "      <th>2</th>\n",
       "      <td>Saanvi Lee</td>\n",
       "      <td>81</td>\n",
       "      <td>67</td>\n",
       "      <td>1938</td>\n",
       "      <td>11</td>\n",
       "      <td>Female</td>\n",
       "      <td>766 Third Drive</td>\n",
       "      <td>West Covina</td>\n",
       "      <td>CA</td>\n",
       "      <td>91792</td>\n",
       "      <td>34.02</td>\n",
       "      <td>-117.89</td>\n",
       "      <td>22681.0</td>\n",
       "      <td>33483.0</td>\n",
       "      <td>196.0</td>\n",
       "      <td>698</td>\n",
       "      <td>5</td>\n",
       "    </tr>\n",
       "    <tr>\n",
       "      <th>3</th>\n",
       "      <td>Everlee Clark</td>\n",
       "      <td>63</td>\n",
       "      <td>63</td>\n",
       "      <td>1957</td>\n",
       "      <td>1</td>\n",
       "      <td>Female</td>\n",
       "      <td>3 Madison Street</td>\n",
       "      <td>New York</td>\n",
       "      <td>NY</td>\n",
       "      <td>10069</td>\n",
       "      <td>40.71</td>\n",
       "      <td>-73.99</td>\n",
       "      <td>163145.0</td>\n",
       "      <td>249925.0</td>\n",
       "      <td>202328.0</td>\n",
       "      <td>722</td>\n",
       "      <td>4</td>\n",
       "    </tr>\n",
       "    <tr>\n",
       "      <th>4</th>\n",
       "      <td>Kyle Peterson</td>\n",
       "      <td>43</td>\n",
       "      <td>70</td>\n",
       "      <td>1976</td>\n",
       "      <td>9</td>\n",
       "      <td>Male</td>\n",
       "      <td>9620 Valley Stream Drive</td>\n",
       "      <td>San Francisco</td>\n",
       "      <td>CA</td>\n",
       "      <td>94117</td>\n",
       "      <td>37.76</td>\n",
       "      <td>-122.44</td>\n",
       "      <td>53797.0</td>\n",
       "      <td>109687.0</td>\n",
       "      <td>183855.0</td>\n",
       "      <td>675</td>\n",
       "      <td>1</td>\n",
       "    </tr>\n",
       "  </tbody>\n",
       "</table>\n",
       "</div>"
      ],
      "text/plain": [
       "           Person  Current Age  Retirement Age  Birth Year  Birth Month  \\\n",
       "0  Hazel Robinson           53              66        1966           11   \n",
       "1      Sasha Sadr           53              68        1966           12   \n",
       "2      Saanvi Lee           81              67        1938           11   \n",
       "3   Everlee Clark           63              63        1957            1   \n",
       "4   Kyle Peterson           43              70        1976            9   \n",
       "\n",
       "   Gender                   Address           City State Zipcode  Latitude  \\\n",
       "0  Female             462 Rose Lane       La Verne    CA   91750     34.15   \n",
       "1  Female    3606 Federal Boulevard    Little Neck    NY   11363     40.76   \n",
       "2  Female           766 Third Drive    West Covina    CA   91792     34.02   \n",
       "3  Female          3 Madison Street       New York    NY   10069     40.71   \n",
       "4    Male  9620 Valley Stream Drive  San Francisco    CA   94117     37.76   \n",
       "\n",
       "   Longitude  avg_income_usd_by_zipcode  annual_income_usd_per_person  \\\n",
       "0    -117.76                    29278.0                       59696.0   \n",
       "1     -73.74                    37891.0                       77254.0   \n",
       "2    -117.89                    22681.0                       33483.0   \n",
       "3     -73.99                   163145.0                      249925.0   \n",
       "4    -122.44                    53797.0                      109687.0   \n",
       "\n",
       "   total_debt_usd  FICO Score  Num Credit Cards  \n",
       "0        127613.0         787                 5  \n",
       "1        191349.0         701                 5  \n",
       "2           196.0         698                 5  \n",
       "3        202328.0         722                 4  \n",
       "4        183855.0         675                 1  "
      ]
     },
     "execution_count": 10,
     "metadata": {},
     "output_type": "execute_result"
    }
   ],
   "source": [
    "users.head()"
   ]
  },
  {
   "cell_type": "markdown",
   "id": "396c6efc-b2c0-4029-a808-d0240688e2fc",
   "metadata": {},
   "source": [
    "# Inspecting the numerical values one by one"
   ]
  },
  {
   "cell_type": "code",
   "execution_count": 11,
   "id": "330f0bb3-6d88-4b7c-bcc8-cc2d5923ad27",
   "metadata": {},
   "outputs": [
    {
     "data": {
      "text/html": [
       "<div>\n",
       "<style scoped>\n",
       "    .dataframe tbody tr th:only-of-type {\n",
       "        vertical-align: middle;\n",
       "    }\n",
       "\n",
       "    .dataframe tbody tr th {\n",
       "        vertical-align: top;\n",
       "    }\n",
       "\n",
       "    .dataframe thead th {\n",
       "        text-align: right;\n",
       "    }\n",
       "</style>\n",
       "<table border=\"1\" class=\"dataframe\">\n",
       "  <thead>\n",
       "    <tr style=\"text-align: right;\">\n",
       "      <th></th>\n",
       "      <th>Current Age</th>\n",
       "      <th>Retirement Age</th>\n",
       "      <th>Birth Year</th>\n",
       "      <th>Birth Month</th>\n",
       "      <th>Latitude</th>\n",
       "      <th>Longitude</th>\n",
       "      <th>avg_income_usd_by_zipcode</th>\n",
       "      <th>annual_income_usd_per_person</th>\n",
       "      <th>total_debt_usd</th>\n",
       "      <th>FICO Score</th>\n",
       "      <th>Num Credit Cards</th>\n",
       "    </tr>\n",
       "  </thead>\n",
       "  <tbody>\n",
       "    <tr>\n",
       "      <th>count</th>\n",
       "      <td>2000.000000</td>\n",
       "      <td>2000.000000</td>\n",
       "      <td>2000.000000</td>\n",
       "      <td>2000.000000</td>\n",
       "      <td>2000.000000</td>\n",
       "      <td>2000.000000</td>\n",
       "      <td>2000.000000</td>\n",
       "      <td>2000.000000</td>\n",
       "      <td>2000.000000</td>\n",
       "      <td>2000.000000</td>\n",
       "      <td>2000.000000</td>\n",
       "    </tr>\n",
       "    <tr>\n",
       "      <th>mean</th>\n",
       "      <td>45.391500</td>\n",
       "      <td>66.237500</td>\n",
       "      <td>1973.803000</td>\n",
       "      <td>6.439000</td>\n",
       "      <td>37.389225</td>\n",
       "      <td>-91.554765</td>\n",
       "      <td>23141.928000</td>\n",
       "      <td>45715.882000</td>\n",
       "      <td>63709.694000</td>\n",
       "      <td>709.734500</td>\n",
       "      <td>3.073000</td>\n",
       "    </tr>\n",
       "    <tr>\n",
       "      <th>std</th>\n",
       "      <td>18.414092</td>\n",
       "      <td>3.628867</td>\n",
       "      <td>18.421234</td>\n",
       "      <td>3.565338</td>\n",
       "      <td>5.114324</td>\n",
       "      <td>16.283293</td>\n",
       "      <td>11324.137358</td>\n",
       "      <td>22992.615456</td>\n",
       "      <td>52254.453421</td>\n",
       "      <td>67.221949</td>\n",
       "      <td>1.637379</td>\n",
       "    </tr>\n",
       "    <tr>\n",
       "      <th>min</th>\n",
       "      <td>18.000000</td>\n",
       "      <td>50.000000</td>\n",
       "      <td>1918.000000</td>\n",
       "      <td>1.000000</td>\n",
       "      <td>20.880000</td>\n",
       "      <td>-159.410000</td>\n",
       "      <td>0.000000</td>\n",
       "      <td>1.000000</td>\n",
       "      <td>0.000000</td>\n",
       "      <td>480.000000</td>\n",
       "      <td>1.000000</td>\n",
       "    </tr>\n",
       "    <tr>\n",
       "      <th>25%</th>\n",
       "      <td>30.000000</td>\n",
       "      <td>65.000000</td>\n",
       "      <td>1961.000000</td>\n",
       "      <td>3.000000</td>\n",
       "      <td>33.837500</td>\n",
       "      <td>-97.395000</td>\n",
       "      <td>16824.500000</td>\n",
       "      <td>32818.500000</td>\n",
       "      <td>23986.750000</td>\n",
       "      <td>681.000000</td>\n",
       "      <td>2.000000</td>\n",
       "    </tr>\n",
       "    <tr>\n",
       "      <th>50%</th>\n",
       "      <td>44.000000</td>\n",
       "      <td>66.000000</td>\n",
       "      <td>1975.000000</td>\n",
       "      <td>7.000000</td>\n",
       "      <td>38.250000</td>\n",
       "      <td>-86.440000</td>\n",
       "      <td>20581.000000</td>\n",
       "      <td>40744.500000</td>\n",
       "      <td>58251.000000</td>\n",
       "      <td>711.500000</td>\n",
       "      <td>3.000000</td>\n",
       "    </tr>\n",
       "    <tr>\n",
       "      <th>75%</th>\n",
       "      <td>58.000000</td>\n",
       "      <td>68.000000</td>\n",
       "      <td>1989.000000</td>\n",
       "      <td>10.000000</td>\n",
       "      <td>41.200000</td>\n",
       "      <td>-80.130000</td>\n",
       "      <td>26286.000000</td>\n",
       "      <td>52698.500000</td>\n",
       "      <td>89070.500000</td>\n",
       "      <td>753.000000</td>\n",
       "      <td>4.000000</td>\n",
       "    </tr>\n",
       "    <tr>\n",
       "      <th>max</th>\n",
       "      <td>101.000000</td>\n",
       "      <td>79.000000</td>\n",
       "      <td>2002.000000</td>\n",
       "      <td>12.000000</td>\n",
       "      <td>61.200000</td>\n",
       "      <td>-68.670000</td>\n",
       "      <td>163145.000000</td>\n",
       "      <td>307018.000000</td>\n",
       "      <td>516263.000000</td>\n",
       "      <td>850.000000</td>\n",
       "      <td>9.000000</td>\n",
       "    </tr>\n",
       "  </tbody>\n",
       "</table>\n",
       "</div>"
      ],
      "text/plain": [
       "       Current Age  Retirement Age   Birth Year  Birth Month     Latitude  \\\n",
       "count  2000.000000     2000.000000  2000.000000  2000.000000  2000.000000   \n",
       "mean     45.391500       66.237500  1973.803000     6.439000    37.389225   \n",
       "std      18.414092        3.628867    18.421234     3.565338     5.114324   \n",
       "min      18.000000       50.000000  1918.000000     1.000000    20.880000   \n",
       "25%      30.000000       65.000000  1961.000000     3.000000    33.837500   \n",
       "50%      44.000000       66.000000  1975.000000     7.000000    38.250000   \n",
       "75%      58.000000       68.000000  1989.000000    10.000000    41.200000   \n",
       "max     101.000000       79.000000  2002.000000    12.000000    61.200000   \n",
       "\n",
       "         Longitude  avg_income_usd_by_zipcode  annual_income_usd_per_person  \\\n",
       "count  2000.000000                2000.000000                   2000.000000   \n",
       "mean    -91.554765               23141.928000                  45715.882000   \n",
       "std      16.283293               11324.137358                  22992.615456   \n",
       "min    -159.410000                   0.000000                      1.000000   \n",
       "25%     -97.395000               16824.500000                  32818.500000   \n",
       "50%     -86.440000               20581.000000                  40744.500000   \n",
       "75%     -80.130000               26286.000000                  52698.500000   \n",
       "max     -68.670000              163145.000000                 307018.000000   \n",
       "\n",
       "       total_debt_usd   FICO Score  Num Credit Cards  \n",
       "count     2000.000000  2000.000000       2000.000000  \n",
       "mean     63709.694000   709.734500          3.073000  \n",
       "std      52254.453421    67.221949          1.637379  \n",
       "min          0.000000   480.000000          1.000000  \n",
       "25%      23986.750000   681.000000          2.000000  \n",
       "50%      58251.000000   711.500000          3.000000  \n",
       "75%      89070.500000   753.000000          4.000000  \n",
       "max     516263.000000   850.000000          9.000000  "
      ]
     },
     "execution_count": 11,
     "metadata": {},
     "output_type": "execute_result"
    }
   ],
   "source": [
    "users.describe()"
   ]
  },
  {
   "cell_type": "code",
   "execution_count": 28,
   "id": "404f05d6-8150-45f2-a1f9-9fe0f389f8d0",
   "metadata": {},
   "outputs": [
    {
     "name": "stdout",
     "output_type": "stream",
     "text": [
      "The mode : 18\n"
     ]
    },
    {
     "data": {
      "text/plain": [
       "<Axes: >"
      ]
     },
     "execution_count": 28,
     "metadata": {},
     "output_type": "execute_result"
    },
    {
     "data": {
      "image/png": "[encoded data removed]",
      "text/plain": [
       "<Figure size 640x480 with 1 Axes>"
      ]
     },
     "metadata": {},
     "output_type": "display_data"
    }
   ],
   "source": [
    "print('The mode :', users['Current Age'].mode()[0])\n",
    "\n",
    "users['Current Age'].hist(bins=30)"
   ]
  },
  {
   "cell_type": "markdown",
   "id": "8bea7aa3-9feb-4718-81ac-b68d454070fe",
   "metadata": {},
   "source": [
    "### Observations\n",
    "The most common age among users is 18 years old.\n",
    "The age distribution is right-skewed, with a higher concentration of younger users and a gradual decrease as age increases."
   ]
  },
  {
   "cell_type": "code",
   "execution_count": 29,
   "id": "07377e83-3cc6-44f7-a09d-5cf29730274b",
   "metadata": {},
   "outputs": [
    {
     "data": {
      "text/plain": [
       "<Axes: >"
      ]
     },
     "execution_count": 29,
     "metadata": {},
     "output_type": "execute_result"
    },
    {
     "data": {
      "image/png": "[encoded data removed]",
      "text/plain": [
       "<Figure size 640x480 with 1 Axes>"
      ]
     },
     "metadata": {},
     "output_type": "display_data"
    }
   ],
   "source": [
    "users['Retirement Age'].hist(bins=30)"
   ]
  },
  {
   "cell_type": "markdown",
   "id": "71064152-748c-4b2e-915c-a605ef8a4f90",
   "metadata": {},
   "source": [
    "### Observations\n",
    "Most users retire between 64 and 67 years old. The age distribution is left-skewed."
   ]
  },
  {
   "cell_type": "code",
   "execution_count": 27,
   "id": "bf162332-db8a-4629-b7b2-db441ffc61e5",
   "metadata": {},
   "outputs": [
    {
     "data": {
      "text/plain": [
       "<Axes: >"
      ]
     },
     "execution_count": 27,
     "metadata": {},
     "output_type": "execute_result"
    },
    {
     "data": {
      "image/png": "[encoded data removed]",
      "text/plain": [
       "<Figure size 640x480 with 1 Axes>"
      ]
     },
     "metadata": {},
     "output_type": "display_data"
    }
   ],
   "source": [
    "users['avg_income_usd_by_zipcode'].hist()"
   ]
  },
  {
   "cell_type": "code",
   "execution_count": 30,
   "id": "4dd6dfd0-6553-493e-9ac9-6a58d10e655c",
   "metadata": {},
   "outputs": [
    {
     "data": {
      "text/plain": [
       "<Axes: >"
      ]
     },
     "execution_count": 30,
     "metadata": {},
     "output_type": "execute_result"
    },
    {
     "data": {
      "image/png": "[encoded data removed]",
      "text/plain": [
       "<Figure size 640x480 with 1 Axes>"
      ]
     },
     "metadata": {},
     "output_type": "display_data"
    }
   ],
   "source": [
    "users['annual_income_usd_per_person'].hist(bins=20)"
   ]
  },
  {
   "cell_type": "markdown",
   "id": "eb74e2dd-4f76-4154-a400-83002d3f77dd",
   "metadata": {},
   "source": [
    "### Observations\n",
    "Most users have an annual income slightly below 50,000USD. The distribution is right-skewed, with fewer people earning more than 100,000USD per year."
   ]
  },
  {
   "cell_type": "code",
   "execution_count": 34,
   "id": "f1b34a1d-f337-4367-ad7e-a27417b62c9e",
   "metadata": {},
   "outputs": [
    {
     "data": {
      "text/plain": [
       "<Axes: >"
      ]
     },
     "execution_count": 34,
     "metadata": {},
     "output_type": "execute_result"
    },
    {
     "data": {
      "image/png": "[encoded data removed]",
      "text/plain": [
       "<Figure size 640x480 with 1 Axes>"
      ]
     },
     "metadata": {},
     "output_type": "display_data"
    }
   ],
   "source": [
    "users['total_debt_usd'].hist(bins=30)"
   ]
  },
  {
   "cell_type": "markdown",
   "id": "6a46c883-e3b1-4fea-bf57-7f3e951d81da",
   "metadata": {},
   "source": [
    "### Observations\n",
    "Right-skewed histogram showing most users have debt under 100kUSD, with peak frequency around 0-50kUSD. Few outliers extend beyond 300kUSD."
   ]
  },
  {
   "cell_type": "code",
   "execution_count": 32,
   "id": "bf0ec2a2-42d9-4430-84cc-af8216e48acd",
   "metadata": {},
   "outputs": [
    {
     "data": {
      "text/plain": [
       "<Axes: >"
      ]
     },
     "execution_count": 32,
     "metadata": {},
     "output_type": "execute_result"
    },
    {
     "data": {
      "image/png": "[encoded data removed]",
      "text/plain": [
       "<Figure size 640x480 with 1 Axes>"
      ]
     },
     "metadata": {},
     "output_type": "display_data"
    }
   ],
   "source": [
    "users['FICO Score'].hist()"
   ]
  },
  {
   "cell_type": "code",
   "execution_count": 17,
   "id": "ab5424d3-2f64-4e3f-bc5e-df8884d21542",
   "metadata": {},
   "outputs": [
    {
     "data": {
      "text/plain": [
       "<Axes: >"
      ]
     },
     "execution_count": 17,
     "metadata": {},
     "output_type": "execute_result"
    },
    {
     "data": {
      "image/png": "[encoded data removed]",
      "text/plain": [
       "<Figure size 640x480 with 1 Axes>"
      ]
     },
     "metadata": {},
     "output_type": "display_data"
    }
   ],
   "source": [
    "users['Num Credit Cards'].hist()"
   ]
  },
  {
   "cell_type": "markdown",
   "id": "7fecdeeb-134d-4b74-96a7-f800a9f0deeb",
   "metadata": {},
   "source": [
    "# Looking for correlations"
   ]
  },
  {
   "cell_type": "code",
   "execution_count": 18,
   "id": "7b8b14d8-d69b-49cf-8129-263658a7c0e4",
   "metadata": {},
   "outputs": [
    {
     "data": {
      "text/html": [
       "<div>\n",
       "<style scoped>\n",
       "    .dataframe tbody tr th:only-of-type {\n",
       "        vertical-align: middle;\n",
       "    }\n",
       "\n",
       "    .dataframe tbody tr th {\n",
       "        vertical-align: top;\n",
       "    }\n",
       "\n",
       "    .dataframe thead th {\n",
       "        text-align: right;\n",
       "    }\n",
       "</style>\n",
       "<table border=\"1\" class=\"dataframe\">\n",
       "  <thead>\n",
       "    <tr style=\"text-align: right;\">\n",
       "      <th></th>\n",
       "      <th>Current Age</th>\n",
       "      <th>Retirement Age</th>\n",
       "      <th>Birth Year</th>\n",
       "      <th>Birth Month</th>\n",
       "      <th>Latitude</th>\n",
       "      <th>Longitude</th>\n",
       "      <th>avg_income_usd_by_zipcode</th>\n",
       "      <th>annual_income_usd_per_person</th>\n",
       "      <th>total_debt_usd</th>\n",
       "      <th>FICO Score</th>\n",
       "      <th>Num Credit Cards</th>\n",
       "    </tr>\n",
       "  </thead>\n",
       "  <tbody>\n",
       "    <tr>\n",
       "      <th>Current Age</th>\n",
       "      <td>1.000000</td>\n",
       "      <td>0.004814</td>\n",
       "      <td>-0.999769</td>\n",
       "      <td>0.008117</td>\n",
       "      <td>-0.032878</td>\n",
       "      <td>-0.009111</td>\n",
       "      <td>-0.009054</td>\n",
       "      <td>-0.114316</td>\n",
       "      <td>-0.315443</td>\n",
       "      <td>-0.005468</td>\n",
       "      <td>0.484189</td>\n",
       "    </tr>\n",
       "    <tr>\n",
       "      <th>Retirement Age</th>\n",
       "      <td>0.004814</td>\n",
       "      <td>1.000000</td>\n",
       "      <td>-0.005548</td>\n",
       "      <td>0.019351</td>\n",
       "      <td>-0.004381</td>\n",
       "      <td>-0.014067</td>\n",
       "      <td>0.004605</td>\n",
       "      <td>0.021506</td>\n",
       "      <td>-0.043371</td>\n",
       "      <td>0.172668</td>\n",
       "      <td>0.158896</td>\n",
       "    </tr>\n",
       "    <tr>\n",
       "      <th>Birth Year</th>\n",
       "      <td>-0.999769</td>\n",
       "      <td>-0.005548</td>\n",
       "      <td>1.000000</td>\n",
       "      <td>-0.022729</td>\n",
       "      <td>0.032943</td>\n",
       "      <td>0.008900</td>\n",
       "      <td>0.008968</td>\n",
       "      <td>0.113853</td>\n",
       "      <td>0.315195</td>\n",
       "      <td>0.006187</td>\n",
       "      <td>-0.484439</td>\n",
       "    </tr>\n",
       "    <tr>\n",
       "      <th>Birth Month</th>\n",
       "      <td>0.008117</td>\n",
       "      <td>0.019351</td>\n",
       "      <td>-0.022729</td>\n",
       "      <td>1.000000</td>\n",
       "      <td>-0.011893</td>\n",
       "      <td>-0.024521</td>\n",
       "      <td>-0.019579</td>\n",
       "      <td>-0.013205</td>\n",
       "      <td>-0.001946</td>\n",
       "      <td>-0.019810</td>\n",
       "      <td>0.014902</td>\n",
       "    </tr>\n",
       "    <tr>\n",
       "      <th>Latitude</th>\n",
       "      <td>-0.032878</td>\n",
       "      <td>-0.004381</td>\n",
       "      <td>0.032943</td>\n",
       "      <td>-0.011893</td>\n",
       "      <td>1.000000</td>\n",
       "      <td>0.123507</td>\n",
       "      <td>0.121343</td>\n",
       "      <td>0.121702</td>\n",
       "      <td>0.057084</td>\n",
       "      <td>0.034816</td>\n",
       "      <td>-0.027350</td>\n",
       "    </tr>\n",
       "    <tr>\n",
       "      <th>Longitude</th>\n",
       "      <td>-0.009111</td>\n",
       "      <td>-0.014067</td>\n",
       "      <td>0.008900</td>\n",
       "      <td>-0.024521</td>\n",
       "      <td>0.123507</td>\n",
       "      <td>1.000000</td>\n",
       "      <td>0.029938</td>\n",
       "      <td>0.041168</td>\n",
       "      <td>-0.000222</td>\n",
       "      <td>0.005879</td>\n",
       "      <td>-0.028451</td>\n",
       "    </tr>\n",
       "    <tr>\n",
       "      <th>avg_income_usd_by_zipcode</th>\n",
       "      <td>-0.009054</td>\n",
       "      <td>0.004605</td>\n",
       "      <td>0.008968</td>\n",
       "      <td>-0.019579</td>\n",
       "      <td>0.121343</td>\n",
       "      <td>0.029938</td>\n",
       "      <td>1.000000</td>\n",
       "      <td>0.963975</td>\n",
       "      <td>0.496138</td>\n",
       "      <td>-0.004545</td>\n",
       "      <td>0.018606</td>\n",
       "    </tr>\n",
       "    <tr>\n",
       "      <th>annual_income_usd_per_person</th>\n",
       "      <td>-0.114316</td>\n",
       "      <td>0.021506</td>\n",
       "      <td>0.113853</td>\n",
       "      <td>-0.013205</td>\n",
       "      <td>0.121702</td>\n",
       "      <td>0.041168</td>\n",
       "      <td>0.963975</td>\n",
       "      <td>1.000000</td>\n",
       "      <td>0.550641</td>\n",
       "      <td>0.000167</td>\n",
       "      <td>-0.032877</td>\n",
       "    </tr>\n",
       "    <tr>\n",
       "      <th>total_debt_usd</th>\n",
       "      <td>-0.315443</td>\n",
       "      <td>-0.043371</td>\n",
       "      <td>0.315195</td>\n",
       "      <td>-0.001946</td>\n",
       "      <td>0.057084</td>\n",
       "      <td>-0.000222</td>\n",
       "      <td>0.496138</td>\n",
       "      <td>0.550641</td>\n",
       "      <td>1.000000</td>\n",
       "      <td>-0.104537</td>\n",
       "      <td>-0.217940</td>\n",
       "    </tr>\n",
       "    <tr>\n",
       "      <th>FICO Score</th>\n",
       "      <td>-0.005468</td>\n",
       "      <td>0.172668</td>\n",
       "      <td>0.006187</td>\n",
       "      <td>-0.019810</td>\n",
       "      <td>0.034816</td>\n",
       "      <td>0.005879</td>\n",
       "      <td>-0.004545</td>\n",
       "      <td>0.000167</td>\n",
       "      <td>-0.104537</td>\n",
       "      <td>1.000000</td>\n",
       "      <td>0.237935</td>\n",
       "    </tr>\n",
       "    <tr>\n",
       "      <th>Num Credit Cards</th>\n",
       "      <td>0.484189</td>\n",
       "      <td>0.158896</td>\n",
       "      <td>-0.484439</td>\n",
       "      <td>0.014902</td>\n",
       "      <td>-0.027350</td>\n",
       "      <td>-0.028451</td>\n",
       "      <td>0.018606</td>\n",
       "      <td>-0.032877</td>\n",
       "      <td>-0.217940</td>\n",
       "      <td>0.237935</td>\n",
       "      <td>1.000000</td>\n",
       "    </tr>\n",
       "  </tbody>\n",
       "</table>\n",
       "</div>"
      ],
      "text/plain": [
       "                              Current Age  Retirement Age  Birth Year  \\\n",
       "Current Age                      1.000000        0.004814   -0.999769   \n",
       "Retirement Age                   0.004814        1.000000   -0.005548   \n",
       "Birth Year                      -0.999769       -0.005548    1.000000   \n",
       "Birth Month                      0.008117        0.019351   -0.022729   \n",
       "Latitude                        -0.032878       -0.004381    0.032943   \n",
       "Longitude                       -0.009111       -0.014067    0.008900   \n",
       "avg_income_usd_by_zipcode       -0.009054        0.004605    0.008968   \n",
       "annual_income_usd_per_person    -0.114316        0.021506    0.113853   \n",
       "total_debt_usd                  -0.315443       -0.043371    0.315195   \n",
       "FICO Score                      -0.005468        0.172668    0.006187   \n",
       "Num Credit Cards                 0.484189        0.158896   -0.484439   \n",
       "\n",
       "                              Birth Month  Latitude  Longitude  \\\n",
       "Current Age                      0.008117 -0.032878  -0.009111   \n",
       "Retirement Age                   0.019351 -0.004381  -0.014067   \n",
       "Birth Year                      -0.022729  0.032943   0.008900   \n",
       "Birth Month                      1.000000 -0.011893  -0.024521   \n",
       "Latitude                        -0.011893  1.000000   0.123507   \n",
       "Longitude                       -0.024521  0.123507   1.000000   \n",
       "avg_income_usd_by_zipcode       -0.019579  0.121343   0.029938   \n",
       "annual_income_usd_per_person    -0.013205  0.121702   0.041168   \n",
       "total_debt_usd                  -0.001946  0.057084  -0.000222   \n",
       "FICO Score                      -0.019810  0.034816   0.005879   \n",
       "Num Credit Cards                 0.014902 -0.027350  -0.028451   \n",
       "\n",
       "                              avg_income_usd_by_zipcode  \\\n",
       "Current Age                                   -0.009054   \n",
       "Retirement Age                                 0.004605   \n",
       "Birth Year                                     0.008968   \n",
       "Birth Month                                   -0.019579   \n",
       "Latitude                                       0.121343   \n",
       "Longitude                                      0.029938   \n",
       "avg_income_usd_by_zipcode                      1.000000   \n",
       "annual_income_usd_per_person                   0.963975   \n",
       "total_debt_usd                                 0.496138   \n",
       "FICO Score                                    -0.004545   \n",
       "Num Credit Cards                               0.018606   \n",
       "\n",
       "                              annual_income_usd_per_person  total_debt_usd  \\\n",
       "Current Age                                      -0.114316       -0.315443   \n",
       "Retirement Age                                    0.021506       -0.043371   \n",
       "Birth Year                                        0.113853        0.315195   \n",
       "Birth Month                                      -0.013205       -0.001946   \n",
       "Latitude                                          0.121702        0.057084   \n",
       "Longitude                                         0.041168       -0.000222   \n",
       "avg_income_usd_by_zipcode                         0.963975        0.496138   \n",
       "annual_income_usd_per_person                      1.000000        0.550641   \n",
       "total_debt_usd                                    0.550641        1.000000   \n",
       "FICO Score                                        0.000167       -0.104537   \n",
       "Num Credit Cards                                 -0.032877       -0.217940   \n",
       "\n",
       "                              FICO Score  Num Credit Cards  \n",
       "Current Age                    -0.005468          0.484189  \n",
       "Retirement Age                  0.172668          0.158896  \n",
       "Birth Year                      0.006187         -0.484439  \n",
       "Birth Month                    -0.019810          0.014902  \n",
       "Latitude                        0.034816         -0.027350  \n",
       "Longitude                       0.005879         -0.028451  \n",
       "avg_income_usd_by_zipcode      -0.004545          0.018606  \n",
       "annual_income_usd_per_person    0.000167         -0.032877  \n",
       "total_debt_usd                 -0.104537         -0.217940  \n",
       "FICO Score                      1.000000          0.237935  \n",
       "Num Credit Cards                0.237935          1.000000  "
      ]
     },
     "execution_count": 18,
     "metadata": {},
     "output_type": "execute_result"
    }
   ],
   "source": [
    "users.corr(numeric_only=True)"
   ]
  },
  {
   "cell_type": "code",
   "execution_count": 19,
   "id": "bf50e951-57ae-4e63-a1f6-06567e17a649",
   "metadata": {},
   "outputs": [
    {
     "data": {
      "image/png": "[encoded data removed]",
      "text/plain": [
       "<Figure size 1000x600 with 2 Axes>"
      ]
     },
     "metadata": {},
     "output_type": "display_data"
    }
   ],
   "source": [
    "import seaborn as sns\n",
    "import matplotlib.pyplot as plt\n",
    "\n",
    "plt.figure(figsize=(10, 6))\n",
    "sns.heatmap(users.select_dtypes(include='number').corr(), annot=True, cmap='coolwarm', fmt='.2f')\n",
    "plt.title('Correlation Heatmap (Numerical Columns Only)')\n",
    "plt.show()"
   ]
  },
  {
   "cell_type": "markdown",
   "id": "8bacc4b4-ea86-49df-a1b0-6e373150b764",
   "metadata": {},
   "source": [
    "# Key Correlations & Hypotheses\n",
    "\n",
    "- Strong correlation (0.96) between `zipcode income` and `personal income`: People likely live in areas matching their income level\n",
    "- Moderate positive correlations (0.50-0.55) between `total debt` and `income metrics`: Higher earners may have more access to credit\n",
    "- `Current Age` positively correlated (0.48) with `Number of Credit Cards`: Credit access may increase with age\n",
    "- `FICO Score` negatively correlated (-0.10) with `total debt`: Lower debt potentially contributes to better credit scores"
   ]
  }
 ],
 "metadata": {
  "kernelspec": {
   "display_name": "Python 3 (ipykernel)",
   "language": "python",
   "name": "python3"
  },
  "language_info": {
   "codemirror_mode": {
    "name": "ipython",
    "version": 3
   },
   "file_extension": ".py",
   "mimetype": "text/x-python",
   "name": "python",
   "nbconvert_exporter": "python",
   "pygments_lexer": "ipython3",
   "version": "3.13.1"
  }
 },
 "nbformat": 4,
 "nbformat_minor": 5
}
